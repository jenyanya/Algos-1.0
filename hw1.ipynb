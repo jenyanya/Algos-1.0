{
 "cells": [
  {
   "cell_type": "markdown",
   "id": "922fe590-2e49-408e-83ce-fb4e3de64668",
   "metadata": {},
   "source": [
    "# A. Кондиционер"
   ]
  },
  {
   "cell_type": "code",
   "execution_count": null,
   "id": "6304484c-4051-4419-85b8-d3be840eaed4",
   "metadata": {},
   "outputs": [],
   "source": [
    "troom, tcond = list(map(int, input().split()))\n",
    "mode = input()\n",
    "if mode == 'freeze':\n",
    "    if tcond < troom:\n",
    "        troom = tcond\n",
    "    print(troom)\n",
    "elif mode == 'heat':\n",
    "    if tcond > troom:\n",
    "        troom = tcond\n",
    "    print(troom)\n",
    "elif mode == 'auto':\n",
    "    print(tcond)\n",
    "elif mode == 'fan':\n",
    "    print(troom)"
   ]
  },
  {
   "cell_type": "markdown",
   "id": "903e4da9-8638-4b99-a5d0-66a45aaa3c89",
   "metadata": {},
   "source": [
    "# B. Треугольник"
   ]
  },
  {
   "cell_type": "code",
   "execution_count": null,
   "id": "1af3fa19-ddaa-4917-9866-775adbef651c",
   "metadata": {},
   "outputs": [],
   "source": [
    "a, b, c, = [int(input()) for _ in range(3)]\n",
    "sides = [a, b, c]\n",
    "if 2 * max(sides) >= sum(sides):\n",
    "    print('NO')\n",
    "else:\n",
    "    print('YES')"
   ]
  },
  {
   "cell_type": "markdown",
   "id": "baa219bc-c062-46b2-8730-2448cfb78a01",
   "metadata": {},
   "source": [
    "# C. Телефонные номера"
   ]
  },
  {
   "cell_type": "code",
   "execution_count": null,
   "id": "8f41ee3c-2050-486c-962d-e990c565fd54",
   "metadata": {},
   "outputs": [],
   "source": [
    "new_number = input()\n",
    "parced_new_number = ''.join(c for c in new_number if c.isdigit())\n",
    "if len(parced_new_number) == 7:\n",
    "    parced_new_number = '495' + parced_new_number\n",
    "else:\n",
    "    parced_new_number = parced_new_number[1:]\n",
    "\n",
    "for _ in range(3):\n",
    "    input_number = input()\n",
    "    input_number = ''.join(c for c in input_number if c.isdigit())\n",
    "    if len(input_number) == 7:\n",
    "        input_number = '495' + input_number\n",
    "    else:\n",
    "        input_number = input_number[1:]\n",
    "    if parced_new_number == input_number:\n",
    "        print('YES')\n",
    "    else:\n",
    "        print('NO')"
   ]
  },
  {
   "cell_type": "markdown",
   "id": "4d77597c-eea3-45d0-9fb7-32c656a2def9",
   "metadata": {},
   "source": [
    "# D. Уравнение с корнем"
   ]
  },
  {
   "cell_type": "code",
   "execution_count": null,
   "id": "d6e4e313-8fcf-4286-9185-20b738a92cd9",
   "metadata": {},
   "outputs": [],
   "source": [
    "def solution():\n",
    "    a = int(input())\n",
    "    b = int(input())\n",
    "    c = int(input())\n",
    "    if c < 0:\n",
    "        return 'NO SOLUTION'\n",
    "    if a == 0:\n",
    "        if c ** 2 == b:\n",
    "            return 'MANY SOLUTIONS'\n",
    "        else:\n",
    "            return 'NO SOLUTION'\n",
    "    solution = (c ** 2 - b) / a\n",
    "    if int(solution) == solution:\n",
    "        return int(solution)\n",
    "    return 'NO SOLUTION'\n",
    "\n",
    "print(solution())"
   ]
  },
  {
   "cell_type": "markdown",
   "id": "181c59d9-7e75-48dd-801a-14720000963a",
   "metadata": {},
   "source": [
    "# E. Скорая помощь (неправильное решение)"
   ]
  },
  {
   "cell_type": "code",
   "execution_count": null,
   "id": "c6abf599-6e1d-468e-ba12-0cd853dcd4ce",
   "metadata": {
    "scrolled": true
   },
   "outputs": [],
   "source": [
    "def solve(apartment_to_find, stories_in_house, known_apartment, known_entrance, known_story):\n",
    "    if known_story > stories_in_house:\n",
    "        return (-1, -1)\n",
    "    stories_before_known_apt = (known_entrance - 1) * stories_in_house + known_story - 1\n",
    "    if stories_before_known_apt == 0:\n",
    "        if apartment_to_find <= known_apartment:\n",
    "            return (1, 1)\n",
    "        if apartment_to_find <= known_apartment * stories_in_house:\n",
    "            return (1, 0)\n",
    "        if stories_in_house == 1:\n",
    "            return (0, 1)\n",
    "        return (0, 0)\n",
    "    apts_per_story = (known_apartment - 1) // stories_before_known_apt\n",
    "    if apts_per_story < 1:\n",
    "        return (-1, -1)\n",
    "    if apartment_to_find == known_apartment:\n",
    "        return (known_entrance, known_story)\n",
    "    if apts_per_story == 1:\n",
    "        unknown_entrance = (apartment_to_find - 1) // stories_in_house + 1\n",
    "        unknown_floor = apartment_to_find - (unknown_entrance - 1) * stories_in_house\n",
    "        return (unknown_entrance, unknown_floor)\n",
    "    possible_other_apts_per_story = apts_per_story - 1\n",
    "    stories_before_known_apt_alt = (known_apartment - 1) // possible_other_apts_per_story\n",
    "    is_inconsistent = stories_before_known_apt == stories_before_known_apt_alt\n",
    "    entrance = (apartment_to_find - 1) // (apts_per_story * stories_in_house) + 1\n",
    "    floor = (apartment_to_find - 1 - (entrance - 1) * apts_per_story * stories_in_house) // apts_per_story + 1\n",
    "    if is_inconsistent:\n",
    "        alternative_entrance = (apartment_to_find - 1) // (possible_other_apts_per_story * stories_in_house) + 1\n",
    "        alternative_floor = (apartment_to_find - 1 - (alternative_entrance - 1) * possible_other_apts_per_story * stories_in_house) // possible_other_apts_per_story + 1\n",
    "        if entrance == alternative_entrance and floor == alternative_floor:\n",
    "            return (entrance, floor)\n",
    "        else:\n",
    "            if known_entrance == 1 and apartment_to_find < known_apartment:\n",
    "                return (1, 0)\n",
    "            if stories_in_house == 1:\n",
    "                return (0, 1)\n",
    "            if apartment_to_find > apts_per_story * stories_in_house and apartment_to_find < known_apartment * 2:\n",
    "                return (2, 0)\n",
    "            return (0, 0)\n",
    "    return (entrance, floor)\n",
    "\n",
    "apartment_to_find, stories_in_house, known_apartment, known_entrance, known_story = list(map(int, input().split()))\n",
    "print(*solve(apartment_to_find, stories_in_house, known_apartment, known_entrance, known_story))"
   ]
  },
  {
   "cell_type": "markdown",
   "id": "66c2826c-850a-49f4-b8c8-e7c131475e19",
   "metadata": {},
   "source": [
    "# F. Расстановка ноутбуков"
   ]
  },
  {
   "cell_type": "code",
   "execution_count": null,
   "id": "3808e796-f03d-4652-833b-d2c85cd0a293",
   "metadata": {},
   "outputs": [],
   "source": [
    "a1, a2, b1, b2 = list(map(int, input().split()))\n",
    "biggest_side = max(a1, a2, b1, b2)\n",
    "a1, a2 = max(a1, a2), min(a2, a1)\n",
    "b1, b2 = max(b1, b2), min(b2, b1)\n",
    "if biggest_side == a1:\n",
    "    small_side = a2\n",
    "    other_sides = (b1, b2)\n",
    "else:\n",
    "    small_side = b2\n",
    "    other_sides = (a1, a2)\n",
    " \n",
    "result = [a1 + b1, a1 + b1]\n",
    "area = result[0] * result[1]\n",
    "if (biggest_side + other_sides[1]) * max(other_sides[0], small_side) < area:\n",
    "    result = [biggest_side + other_sides[1], max(other_sides[0], small_side)]\n",
    "    area = result[0] * result[1]\n",
    "if biggest_side * (small_side + other_sides[1]) < area:\n",
    "    result = [biggest_side, small_side + other_sides[1]]\n",
    "    area = result[0] * result[1]\n",
    "\n",
    "print(*result)"
   ]
  },
  {
   "cell_type": "markdown",
   "id": "8afd878a-7a9d-4a27-a8b5-d96e34244095",
   "metadata": {},
   "source": [
    "# G. Детали"
   ]
  },
  {
   "cell_type": "code",
   "execution_count": null,
   "id": "fcdb9fac-c131-4c5b-bd81-c4814df555a8",
   "metadata": {},
   "outputs": [],
   "source": [
    "def solve(n, k, m):\n",
    "    details = 0\n",
    "    while n >= k:\n",
    "        amount_of_billets, leftovers = n // k, n % k\n",
    "        details_per_billet, remainder_from_details = k // m, k % m\n",
    "        details_this_step = details_per_billet * amount_of_billets\n",
    "        details += details_this_step\n",
    "        n = leftovers + remainder_from_details * amount_of_billets\n",
    "        if not details_this_step:\n",
    "            break\n",
    "    return details\n",
    "\n",
    "n, k, m = list(map(int, input().split()))\n",
    "solve(n, k, m)"
   ]
  },
  {
   "cell_type": "markdown",
   "id": "550f5d15-82d8-430b-b806-edd1c06ef5da",
   "metadata": {},
   "source": [
    "# H. Метро"
   ]
  },
  {
   "cell_type": "code",
   "execution_count": null,
   "id": "5c6d6e57-bff1-4bd9-b298-18f5deb3ad9f",
   "metadata": {},
   "outputs": [],
   "source": [
    "def solve(a, b, n, m):\n",
    "    if a > b:\n",
    "        longer_interval, less_freq_train_count = a, n\n",
    "        shorter_interval, more_freq_train_count = b, m\n",
    "    else:\n",
    "        longer_interval, less_freq_train_count = b, m\n",
    "        shorter_interval, more_freq_train_count = a, n\n",
    "    possible_time_less_freq = [(less_freq_train_count - 1) * longer_interval + less_freq_train_count,\n",
    "                               (less_freq_train_count + 1) * longer_interval + less_freq_train_count]\n",
    "    possible_time_more_freq = [(more_freq_train_count - 1) * shorter_interval + more_freq_train_count,\n",
    "                               (more_freq_train_count + 1) * shorter_interval + more_freq_train_count]\n",
    "    time_interval_1 = {i for i in range(possible_time_less_freq[0], possible_time_less_freq[1] + 1)}\n",
    "    time_interval_2 = {i for i in range(possible_time_more_freq[0], possible_time_more_freq[1] + 1)}\n",
    "    result = time_interval_1.intersection(time_interval_2)\n",
    "    if result:\n",
    "        return min(result), max(result)\n",
    "    return (-1, )\n",
    "\n",
    "\n",
    "a, b, n, m = [int(input()) for _ in range(4)]\n",
    "result = solve(a, b, n, m)\n",
    "print(*result)"
   ]
  },
  {
   "cell_type": "markdown",
   "id": "743c9072-ac8b-4fa7-899b-09136455dd23",
   "metadata": {},
   "source": [
    "# I. Узник замка Иф"
   ]
  },
  {
   "cell_type": "code",
   "execution_count": null,
   "id": "8703fac8-147b-4711-9663-1293e1083398",
   "metadata": {},
   "outputs": [],
   "source": [
    "def solve(a, b, c, d, e):\n",
    "    a, b, c = sorted([a, b, c])\n",
    "    d, e = sorted([d, e])\n",
    "    if a <= d and b <= e:\n",
    "        return 'YES'\n",
    "    return 'NO'\n",
    "\n",
    "\n",
    "a, b, c, d, e = [int(input()) for _ in range(5)]\n",
    "print(solve(a, b, c, d, e))"
   ]
  },
  {
   "cell_type": "markdown",
   "id": "46abf7a3-8c8e-4dda-9693-ee89940ca4c3",
   "metadata": {},
   "source": [
    "# J. Система линейных уравнений - 2"
   ]
  },
  {
   "cell_type": "code",
   "execution_count": null,
   "id": "429106f3-eaf9-42b9-a42b-2e5473e05d60",
   "metadata": {},
   "outputs": [],
   "source": [
    "def solve(a, b, c, d, e, f):\n",
    "    det = a * d - b * c\n",
    "    # if determinant is 0\n",
    "    if det == 0:\n",
    "        # if a, b, c, d == 0 => 2 options\n",
    "        if a == 0 and b == 0 and c == 0 and d == 0:\n",
    "            if e == 0 and f == 0:\n",
    "                return (5, )\n",
    "            return (0, )\n",
    "        # if first equation is 0\n",
    "        if a == 0 and b == 0:\n",
    "            if e == 0:\n",
    "                if c == 0:\n",
    "                    return (4, f / d)\n",
    "                if d == 0:\n",
    "                    return (3, f / c)\n",
    "                return (1, -c / d, f / d)\n",
    "            return (0, )\n",
    "        # if second equation is 0\n",
    "        if c == 0 and d == 0:\n",
    "            if f == 0:\n",
    "                if a == 0:\n",
    "                    return (4, e / b)\n",
    "                if b == 0:\n",
    "                    return (3, e / a)\n",
    "                return (1, -a / b, e / b)\n",
    "            return (0, )\n",
    "        # if first column is 0\n",
    "        if a == 0 and c == 0:\n",
    "            if e / b == f / d:\n",
    "                return (4, e / b)\n",
    "            return (0, )\n",
    "        # if second column is 0\n",
    "        if b == 0 and d == 0:\n",
    "            if e / a == f / c:\n",
    "                return (3, e / a)\n",
    "            return (0, )\n",
    "        if a / c == b / d:\n",
    "            if f * a / c == e:\n",
    "                return (1, -a / b, e / b)\n",
    "            return (0, )\n",
    "    # if main diag is 0\n",
    "    if a == 0 and d == 0:\n",
    "        return (2, f / c, e / b)\n",
    "    # if another diag is 0\n",
    "    if c == 0 and b == 0:\n",
    "        return (2, e / a, f / d)\n",
    "    # if only 1 out of a, b, c, d == 0\n",
    "    if a == 0 or b == 0 or c == 0 or d == 0:\n",
    "        if a == 0:\n",
    "            y = e / b\n",
    "            x = (f - d * y) / c\n",
    "        if b == 0:\n",
    "            x = e / a\n",
    "            y = (f - c * x) / d\n",
    "        if c == 0:\n",
    "            y = f / d\n",
    "            x = (e - b * y) / a\n",
    "        if d == 0:\n",
    "            x = f / c\n",
    "            y = (e - a * x) / b\n",
    "        return (2, x, y)\n",
    "    return (2, (e * d - b * f) / det, (a * f - e * c) / det)\n",
    "\n",
    "\n",
    "a, b, c, d, e, f = [float(input()) for _ in range(6)]\n",
    "result = solve(a, b, c, d, e, f)\n",
    "print(*result)"
   ]
  }
 ],
 "metadata": {
  "kernelspec": {
   "display_name": "Python 3 (ipykernel)",
   "language": "python",
   "name": "python3"
  },
  "language_info": {
   "codemirror_mode": {
    "name": "ipython",
    "version": 3
   },
   "file_extension": ".py",
   "mimetype": "text/x-python",
   "name": "python",
   "nbconvert_exporter": "python",
   "pygments_lexer": "ipython3",
   "version": "3.12.7"
  }
 },
 "nbformat": 4,
 "nbformat_minor": 5
}
