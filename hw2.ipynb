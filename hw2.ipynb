{
 "cells": [
  {
   "cell_type": "markdown",
   "id": "0bdeccb5-8fc4-40d7-8184-5d0b7a435dd2",
   "metadata": {},
   "source": [
    "# A. Возрастает ли список?"
   ]
  },
  {
   "cell_type": "code",
   "execution_count": null,
   "id": "e3a1ad4c-818f-4fcb-8115-ca366e1ca5fc",
   "metadata": {},
   "outputs": [],
   "source": [
    "input_seq = list(map(int, input().split()))\n",
    "previous = input_seq[0]\n",
    "for i in range(1, len(input_seq)):\n",
    "    if input_seq[i] < previous:\n",
    "        print('NO')\n",
    "        break\n",
    "    previous = input_seq[i]\n",
    "else:\n",
    "    print('YES')"
   ]
  },
  {
   "cell_type": "markdown",
   "id": "5980397b-5bf6-4299-948e-467f6a0a756b",
   "metadata": {},
   "source": [
    "# B. Определить вид последовательности\r\n"
   ]
  },
  {
   "cell_type": "code",
   "execution_count": null,
   "id": "81bb0a3c-4b92-4b82-b453-30b034df5724",
   "metadata": {
    "scrolled": true
   },
   "outputs": [],
   "source": [
    "seq = []\n",
    "while (n := int(input())) != -2000000000:\n",
    "    seq.append(n)\n",
    "    \n",
    "def solve(seq):\n",
    "    const_flag, asc_flag, w_asc_flag, desc_flag, w_desc_flag = [1 for _ in range(5)] \n",
    "    prev = seq[0]\n",
    "    for i in range(1, len(seq)):\n",
    "        if seq[i] != prev:\n",
    "            const_flag = 0\n",
    "        if seq[i] <= prev:\n",
    "            asc_flag = 0\n",
    "        if seq[i] < prev:\n",
    "            w_asc_flag = 0\n",
    "        if seq[i] >= prev:\n",
    "            desc_flag = 0\n",
    "        if seq[i] > prev:\n",
    "            w_desc_flag = 0\n",
    "        prev = seq[i]\n",
    "    if const_flag == 1:\n",
    "        return 'CONSTANT'\n",
    "    if asc_flag == 1:\n",
    "        return 'ASCENDING'\n",
    "    if desc_flag == 1:\n",
    "        return 'DESCENDING'\n",
    "    if w_asc_flag == 1:\n",
    "        return 'WEAKLY ASCENDING'\n",
    "    if w_desc_flag == 1:\n",
    "        return 'WEAKLY DESCENDING'\n",
    "    return 'RANDOM'\n",
    "    \n",
    "print(solve(seq))"
   ]
  },
  {
   "cell_type": "markdown",
   "id": "85a7b718-73ea-4389-a5d1-0079b90ffa5c",
   "metadata": {},
   "source": [
    "# C. Ближайшее число\n"
   ]
  },
  {
   "cell_type": "code",
   "execution_count": null,
   "id": "0474da05-3578-433a-a945-9b67cb6d48b4",
   "metadata": {
    "scrolled": true
   },
   "outputs": [],
   "source": [
    "_ = input()\n",
    "seq = list(map(int, input().split()))\n",
    "target_num = int(input())\n",
    "index_result = 0\n",
    "difference = abs(target_num - seq[index_result])\n",
    "\n",
    "for i in range(1, len(seq)):\n",
    "    if abs(target_num - seq[i]) < difference:\n",
    "        difference = abs(target_num - seq[i])\n",
    "        index_result = i\n",
    "\n",
    "print(seq[index_result])"
   ]
  },
  {
   "cell_type": "markdown",
   "id": "2f8a7e3e-81a6-47b3-92dd-e31b27d2ba37",
   "metadata": {},
   "source": [
    "# D. Больше своих соседей\n",
    "\n"
   ]
  },
  {
   "cell_type": "code",
   "execution_count": null,
   "id": "391e0a68-29e9-4973-9ba3-e5a88494e2e9",
   "metadata": {
    "scrolled": true
   },
   "outputs": [],
   "source": [
    "seq = list(map(float, input().split()))\n",
    "result = 0\n",
    "for i in range(1, len(seq) - 1):\n",
    "    if seq[i] > seq[i - 1] and seq[i] > seq[i + 1]:\n",
    "        result += 1\n",
    "\n",
    "print(result)"
   ]
  },
  {
   "cell_type": "markdown",
   "id": "d2469901-84a7-450c-8dd4-bad1beb2ec19",
   "metadata": {},
   "source": [
    "# E. Чемпионат по метанию коровьих лепешек\n"
   ]
  },
  {
   "cell_type": "code",
   "execution_count": null,
   "id": "133ac24a-48d7-463b-aca6-38f508ff1d18",
   "metadata": {
    "scrolled": true
   },
   "outputs": [],
   "source": [
    "def solve():\n",
    "    _ = input()\n",
    "    scores = list(map(int, input().split()))\n",
    "    \n",
    "    max_score = scores[0]\n",
    "    max_score_index = 0\n",
    "    for index in range(1, len(scores)):\n",
    "        if scores[index] > max_score:\n",
    "            max_score = scores[index]\n",
    "            max_score_index = index\n",
    "    \n",
    "    vasya_score = -1\n",
    "    for index in range(max_score_index + 1, len(scores) - 1):\n",
    "        if scores[index] % 10 == 5 and scores[index + 1] < scores[index] and scores[index] > vasya_score:\n",
    "            vasya_score = scores[index]\n",
    "\n",
    "    if vasya_score == -1:\n",
    "        return 0\n",
    "\n",
    "    result = 1\n",
    "    for score in scores:\n",
    "        if score > vasya_score:\n",
    "            result += 1\n",
    "\n",
    "    return result\n",
    "\n",
    "print(solve())"
   ]
  },
  {
   "cell_type": "markdown",
   "id": "2093150c-f6d1-44c8-8a3d-e1dffbbcddf5",
   "metadata": {},
   "source": [
    "# F. Симметричная последовательность\n"
   ]
  },
  {
   "cell_type": "code",
   "execution_count": null,
   "id": "777ba772-5b2e-4517-9c9e-4174fec213e8",
   "metadata": {},
   "outputs": [],
   "source": [
    "def solve():\n",
    "    n = int(input())\n",
    "    seq = list(map(int, input().split()))\n",
    "    result = list(seq)\n",
    "    for i in range(len(seq)):\n",
    "        appendage = seq[:i]\n",
    "        appendage = appendage[::-1]\n",
    "        result = list(seq)\n",
    "        result.extend(appendage)\n",
    "        if result == result[::-1]:\n",
    "            return len(appendage), appendage\n",
    "\n",
    "len_required, sequence = solve()\n",
    "print(len_required)\n",
    "if len(sequence) > 0:\n",
    "    print(*sequence)"
   ]
  },
  {
   "cell_type": "markdown",
   "id": "b20718d6-c30c-4842-a61a-9ce07c9b2119",
   "metadata": {},
   "source": [
    "# G. Наибольшее произведение двух чисел\n"
   ]
  },
  {
   "cell_type": "code",
   "execution_count": null,
   "id": "c6bac271-a7ce-49f1-a632-9c5c2adc369e",
   "metadata": {},
   "outputs": [],
   "source": [
    "def solve():\n",
    "    numbers = list(map(int, input().split()))\n",
    "    min1, min2 = min(numbers[:2]), max(numbers[:2])\n",
    "    max1, max2 = max(numbers[:2]), min(numbers[:2])\n",
    "    for index in range(2, len(numbers)):\n",
    "        if numbers[index] > max1:\n",
    "            max2, max1 = max1, numbers[index]\n",
    "        elif numbers[index] > max2:\n",
    "            max2 = numbers[index]\n",
    "        if numbers[index] < min1:\n",
    "            min1, min2 = numbers[index], min1\n",
    "        elif numbers[index] < min2:\n",
    "            min2 = numbers[index]\n",
    "\n",
    "    if min1 * min2 > max1 * max2:\n",
    "        return min1, min2\n",
    "    return max2, max1\n",
    "\n",
    "print(*solve())"
   ]
  },
  {
   "cell_type": "markdown",
   "id": "166ca729-37ee-45fe-bafb-5bf98e6fee9a",
   "metadata": {},
   "source": [
    "# H. Наибольшее произведение трех чисел\n"
   ]
  },
  {
   "cell_type": "code",
   "execution_count": null,
   "id": "f440e520-e174-44b9-813b-adf99dce0d96",
   "metadata": {},
   "outputs": [],
   "source": [
    "def solve():\n",
    "    numbers = list(map(int, input().split()))\n",
    "    \n",
    "    min1, min2, _ = sorted(numbers[:3])\n",
    "    max3, max2, max1 = sorted(numbers[:3])\n",
    "    for index in range(3, len(numbers)):\n",
    "        if numbers[index] > max1:\n",
    "            max3, max2, max1 = max2, max1, numbers[index]\n",
    "        elif numbers[index] > max2:\n",
    "            max3 = max2\n",
    "            max2 = numbers[index]\n",
    "        elif numbers[index] > max3:\n",
    "            max3 = numbers[index]\n",
    "        if numbers[index] < min1:\n",
    "            min1, min2 = numbers[index], min1\n",
    "        elif numbers[index] < min2:\n",
    "            min2 = numbers[index]\n",
    "\n",
    "    if min1 * min2 * max1 > max1 * max2 * max3:\n",
    "        return min1, min2, max1\n",
    "    return max1, max2, max3\n",
    "\n",
    "print(*solve())"
   ]
  },
  {
   "cell_type": "markdown",
   "id": "6b43951b-c4dd-4bf5-b46e-bb1433d80c54",
   "metadata": {},
   "source": [
    "# I. Сапер\n"
   ]
  },
  {
   "cell_type": "code",
   "execution_count": null,
   "id": "f4d69b82-ea8a-46b0-bb34-fafde0ac34e6",
   "metadata": {},
   "outputs": [],
   "source": [
    "def solve():\n",
    "    n, m, k = list(map(int, input().split()))\n",
    "    mines = []\n",
    "    for _ in range(k):\n",
    "        mines.append(list(map(int, input().split())))\n",
    "    result = [[0 for _ in range(m + 2)] for _ in range(n + 2)]\n",
    "    for mine in mines:\n",
    "        for i in range(mine[0] - 1, mine[0] + 2):\n",
    "            for j in range(mine[1] - 1, mine[1] + 2):\n",
    "                result[i][j] += 1\n",
    "\n",
    "    for mine in mines:\n",
    "        result[mine[0]][mine[1]] = '*'\n",
    "    result = result[1:-1]\n",
    "    result = [el[1:-1] for el in result]\n",
    "    [print(*el) for el in result]\n",
    "        \n",
    "\n",
    "solve()"
   ]
  },
  {
   "cell_type": "markdown",
   "id": "e11e0dbc-db9d-42ca-b410-27ff72b1155a",
   "metadata": {},
   "source": [
    "# J. Треугольник Максима\n"
   ]
  },
  {
   "cell_type": "code",
   "execution_count": null,
   "id": "dfb401a6-7c9e-4149-8df1-339d1a7ce174",
   "metadata": {},
   "outputs": [],
   "source": [
    "n = int(input())\n",
    "upper_bound = 4000.0\n",
    "lower_bound = 30.0\n",
    "for i in range(n):\n",
    "    if i == 0:\n",
    "        prev = float(input())\n",
    "        continue\n",
    "    point_str, instruction = input().split()\n",
    "    current = float(point_str)\n",
    "    interval = abs(current - prev) / 2\n",
    "    if current < prev:\n",
    "        if instruction == 'closer':\n",
    "            upper_bound_tmp = current + interval\n",
    "            if upper_bound_tmp < upper_bound:\n",
    "                upper_bound = upper_bound_tmp\n",
    "                if upper_bound < lower_bound:\n",
    "                    upper_bound = lower_bound\n",
    "        else:\n",
    "            lower_bound_tmp = prev - interval\n",
    "            if lower_bound_tmp > lower_bound:\n",
    "                lower_bound = lower_bound_tmp\n",
    "                if upper_bound < lower_bound:\n",
    "                    lower_bound = upper_bound\n",
    "    if prev < current:\n",
    "        if instruction == 'closer':\n",
    "            lower_bound_tmp = current - interval\n",
    "            if lower_bound_tmp > lower_bound:\n",
    "                lower_bound = lower_bound_tmp\n",
    "                if upper_bound < lower_bound:\n",
    "                    lower_bound = upper_bound\n",
    "        else:\n",
    "            upper_bound_tmp = prev + interval\n",
    "            if upper_bound_tmp < upper_bound:\n",
    "                upper_bound = upper_bound_tmp\n",
    "                if upper_bound < lower_bound:\n",
    "                    upper_bound = lower_bound\n",
    "    prev, instruction_prev = current, instruction\n",
    "\n",
    "print(lower_bound, upper_bound)"
   ]
  }
 ],
 "metadata": {
  "kernelspec": {
   "display_name": "Python 3 (ipykernel)",
   "language": "python",
   "name": "python3"
  },
  "language_info": {
   "codemirror_mode": {
    "name": "ipython",
    "version": 3
   },
   "file_extension": ".py",
   "mimetype": "text/x-python",
   "name": "python",
   "nbconvert_exporter": "python",
   "pygments_lexer": "ipython3",
   "version": "3.12.7"
  }
 },
 "nbformat": 4,
 "nbformat_minor": 5
}
